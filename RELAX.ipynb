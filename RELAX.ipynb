{
 "cells": [
  {
   "cell_type": "markdown",
   "metadata": {},
   "source": [
    "# Relax Inc.\n",
    "---"
   ]
  },
  {
   "cell_type": "markdown",
   "metadata": {},
   "source": [
    "Import modules."
   ]
  },
  {
   "cell_type": "code",
   "execution_count": 1,
   "metadata": {
    "collapsed": true
   },
   "outputs": [],
   "source": [
    "\n",
    "from sklearn.metrics import classification_report, accuracy_score, confusion_matrix, roc_auc_score, roc_curve, auc\n",
    "from sklearn.model_selection import train_test_split, cross_val_score\n",
    "from sklearn.ensemble import RandomForestClassifier\n",
    "from sklearn.neighbors import KNeighborsClassifier\n",
    "from sklearn.model_selection import GridSearchCV\n",
    "from sklearn.tree import DecisionTreeClassifier\n",
    "from sklearn.preprocessing import normalize, scale\n",
    "import matplotlib.pyplot as plt\n",
    "from sklearn import svm\n",
    "import seaborn as sns\n",
    "import pandas as pd\n",
    "import numpy as np\n",
    "import json\n",
    "\n",
    "pd.options.display.max_rows = 300\n",
    "pd.options.display.max_columns = 300\n",
    "\n",
    "%matplotlib inline\n"
   ]
  },
  {
   "cell_type": "markdown",
   "metadata": {},
   "source": [
    "Load data."
   ]
  },
  {
   "cell_type": "code",
   "execution_count": 2,
   "metadata": {
    "collapsed": false
   },
   "outputs": [
    {
     "name": "stdout",
     "output_type": "stream",
     "text": [
      "\n",
      "Source: takehome_user_engagement.csv\n",
      "Rows: 207917\n",
      "Cols: 3\n",
      "\n",
      "Source: takehome_users.csv\n",
      "Rows: 12000\n",
      "Cols: 10\n"
     ]
    }
   ],
   "source": [
    "path = '/Users/LuisRa/Desktop/relax_challenge/'\n",
    "engagement = 'takehome_user_engagement.csv'\n",
    "users = 'takehome_users.csv'\n",
    "\n",
    "dfEng = pd.read_csv(path + engagement)\n",
    "dfUsers = pd.read_csv(path + users, encoding = 'latin-1')\n",
    "\n",
    "print(\"\\nSource:\", engagement)\n",
    "print(\"Rows:\", dfEng.shape[0])\n",
    "print(\"Cols:\",dfEng.shape[1])\n",
    "\n",
    "print(\"\\nSource:\", users)\n",
    "print(\"Rows:\", dfUsers.shape[0])\n",
    "print(\"Cols:\",dfUsers.shape[1])"
   ]
  },
  {
   "cell_type": "markdown",
   "metadata": {},
   "source": [
    "### Defining an \"adopted user\" as a user who has logged into the product on three separate days in at least one seven­day period, identify which factors predict future user adoption"
   ]
  },
  {
   "cell_type": "markdown",
   "metadata": {},
   "source": [
    "Sort data by user id and time stamp (asc.), assigning row numbers per user."
   ]
  },
  {
   "cell_type": "code",
   "execution_count": 3,
   "metadata": {
    "collapsed": false
   },
   "outputs": [
    {
     "data": {
      "text/html": [
       "<div>\n",
       "<style scoped>\n",
       "    .dataframe tbody tr th:only-of-type {\n",
       "        vertical-align: middle;\n",
       "    }\n",
       "\n",
       "    .dataframe tbody tr th {\n",
       "        vertical-align: top;\n",
       "    }\n",
       "\n",
       "    .dataframe thead th {\n",
       "        text-align: right;\n",
       "    }\n",
       "</style>\n",
       "<table border=\"1\" class=\"dataframe\">\n",
       "  <thead>\n",
       "    <tr style=\"text-align: right;\">\n",
       "      <th></th>\n",
       "      <th>time_stamp</th>\n",
       "      <th>user_id</th>\n",
       "      <th>row_num</th>\n",
       "    </tr>\n",
       "  </thead>\n",
       "  <tbody>\n",
       "    <tr>\n",
       "      <th>0</th>\n",
       "      <td>2014-04-22 03:53:30</td>\n",
       "      <td>1</td>\n",
       "      <td>1</td>\n",
       "    </tr>\n",
       "    <tr>\n",
       "      <th>1</th>\n",
       "      <td>2013-11-15 03:45:04</td>\n",
       "      <td>2</td>\n",
       "      <td>1</td>\n",
       "    </tr>\n",
       "    <tr>\n",
       "      <th>2</th>\n",
       "      <td>2013-11-29 03:45:04</td>\n",
       "      <td>2</td>\n",
       "      <td>2</td>\n",
       "    </tr>\n",
       "    <tr>\n",
       "      <th>3</th>\n",
       "      <td>2013-12-09 03:45:04</td>\n",
       "      <td>2</td>\n",
       "      <td>3</td>\n",
       "    </tr>\n",
       "    <tr>\n",
       "      <th>4</th>\n",
       "      <td>2013-12-25 03:45:04</td>\n",
       "      <td>2</td>\n",
       "      <td>4</td>\n",
       "    </tr>\n",
       "    <tr>\n",
       "      <th>5</th>\n",
       "      <td>2013-12-31 03:45:04</td>\n",
       "      <td>2</td>\n",
       "      <td>5</td>\n",
       "    </tr>\n",
       "    <tr>\n",
       "      <th>6</th>\n",
       "      <td>2014-01-08 03:45:04</td>\n",
       "      <td>2</td>\n",
       "      <td>6</td>\n",
       "    </tr>\n",
       "    <tr>\n",
       "      <th>7</th>\n",
       "      <td>2014-02-03 03:45:04</td>\n",
       "      <td>2</td>\n",
       "      <td>7</td>\n",
       "    </tr>\n",
       "    <tr>\n",
       "      <th>8</th>\n",
       "      <td>2014-02-08 03:45:04</td>\n",
       "      <td>2</td>\n",
       "      <td>8</td>\n",
       "    </tr>\n",
       "    <tr>\n",
       "      <th>9</th>\n",
       "      <td>2014-02-09 03:45:04</td>\n",
       "      <td>2</td>\n",
       "      <td>9</td>\n",
       "    </tr>\n",
       "  </tbody>\n",
       "</table>\n",
       "</div>"
      ],
      "text/plain": [
       "           time_stamp  user_id  row_num\n",
       "0 2014-04-22 03:53:30        1        1\n",
       "1 2013-11-15 03:45:04        2        1\n",
       "2 2013-11-29 03:45:04        2        2\n",
       "3 2013-12-09 03:45:04        2        3\n",
       "4 2013-12-25 03:45:04        2        4\n",
       "5 2013-12-31 03:45:04        2        5\n",
       "6 2014-01-08 03:45:04        2        6\n",
       "7 2014-02-03 03:45:04        2        7\n",
       "8 2014-02-08 03:45:04        2        8\n",
       "9 2014-02-09 03:45:04        2        9"
      ]
     },
     "execution_count": 3,
     "metadata": {},
     "output_type": "execute_result"
    }
   ],
   "source": [
    "dfEng = dfEng.drop(['visited'],axis=1)\n",
    "dfEng['time_stamp'] = pd.to_datetime(dfEng['time_stamp'])\n",
    "dfEng = dfEng.sort_values(by=['user_id', 'time_stamp'])\n",
    "dfEng['row_num'] = dfEng.groupby(['user_id']).cumcount()+1\n",
    "dfEng.head(10)"
   ]
  },
  {
   "cell_type": "markdown",
   "metadata": {},
   "source": [
    "Join the next login to the previous login using the user id and row num as keys. Calculate the difference between the two timestamps in terms of day."
   ]
  },
  {
   "cell_type": "code",
   "execution_count": 4,
   "metadata": {
    "collapsed": false
   },
   "outputs": [
    {
     "data": {
      "text/html": [
       "<div>\n",
       "<style scoped>\n",
       "    .dataframe tbody tr th:only-of-type {\n",
       "        vertical-align: middle;\n",
       "    }\n",
       "\n",
       "    .dataframe tbody tr th {\n",
       "        vertical-align: top;\n",
       "    }\n",
       "\n",
       "    .dataframe thead th {\n",
       "        text-align: right;\n",
       "    }\n",
       "</style>\n",
       "<table border=\"1\" class=\"dataframe\">\n",
       "  <thead>\n",
       "    <tr style=\"text-align: right;\">\n",
       "      <th></th>\n",
       "      <th>time_stamp</th>\n",
       "      <th>user_id</th>\n",
       "      <th>row_num</th>\n",
       "      <th>next_time_stamp</th>\n",
       "      <th>days_since_prior</th>\n",
       "    </tr>\n",
       "  </thead>\n",
       "  <tbody>\n",
       "    <tr>\n",
       "      <th>0</th>\n",
       "      <td>2014-04-22 03:53:30</td>\n",
       "      <td>1</td>\n",
       "      <td>1</td>\n",
       "      <td>NaT</td>\n",
       "      <td>NaN</td>\n",
       "    </tr>\n",
       "    <tr>\n",
       "      <th>1</th>\n",
       "      <td>2013-11-15 03:45:04</td>\n",
       "      <td>2</td>\n",
       "      <td>1</td>\n",
       "      <td>2013-11-29 03:45:04</td>\n",
       "      <td>14.0</td>\n",
       "    </tr>\n",
       "    <tr>\n",
       "      <th>2</th>\n",
       "      <td>2013-11-29 03:45:04</td>\n",
       "      <td>2</td>\n",
       "      <td>2</td>\n",
       "      <td>2013-12-09 03:45:04</td>\n",
       "      <td>10.0</td>\n",
       "    </tr>\n",
       "    <tr>\n",
       "      <th>3</th>\n",
       "      <td>2013-12-09 03:45:04</td>\n",
       "      <td>2</td>\n",
       "      <td>3</td>\n",
       "      <td>2013-12-25 03:45:04</td>\n",
       "      <td>16.0</td>\n",
       "    </tr>\n",
       "    <tr>\n",
       "      <th>4</th>\n",
       "      <td>2013-12-25 03:45:04</td>\n",
       "      <td>2</td>\n",
       "      <td>4</td>\n",
       "      <td>2013-12-31 03:45:04</td>\n",
       "      <td>6.0</td>\n",
       "    </tr>\n",
       "    <tr>\n",
       "      <th>5</th>\n",
       "      <td>2013-12-31 03:45:04</td>\n",
       "      <td>2</td>\n",
       "      <td>5</td>\n",
       "      <td>2014-01-08 03:45:04</td>\n",
       "      <td>8.0</td>\n",
       "    </tr>\n",
       "    <tr>\n",
       "      <th>6</th>\n",
       "      <td>2014-01-08 03:45:04</td>\n",
       "      <td>2</td>\n",
       "      <td>6</td>\n",
       "      <td>2014-02-03 03:45:04</td>\n",
       "      <td>26.0</td>\n",
       "    </tr>\n",
       "    <tr>\n",
       "      <th>7</th>\n",
       "      <td>2014-02-03 03:45:04</td>\n",
       "      <td>2</td>\n",
       "      <td>7</td>\n",
       "      <td>2014-02-08 03:45:04</td>\n",
       "      <td>5.0</td>\n",
       "    </tr>\n",
       "    <tr>\n",
       "      <th>8</th>\n",
       "      <td>2014-02-08 03:45:04</td>\n",
       "      <td>2</td>\n",
       "      <td>8</td>\n",
       "      <td>2014-02-09 03:45:04</td>\n",
       "      <td>1.0</td>\n",
       "    </tr>\n",
       "    <tr>\n",
       "      <th>9</th>\n",
       "      <td>2014-02-09 03:45:04</td>\n",
       "      <td>2</td>\n",
       "      <td>9</td>\n",
       "      <td>2014-02-13 03:45:04</td>\n",
       "      <td>4.0</td>\n",
       "    </tr>\n",
       "  </tbody>\n",
       "</table>\n",
       "</div>"
      ],
      "text/plain": [
       "           time_stamp  user_id  row_num     next_time_stamp  days_since_prior\n",
       "0 2014-04-22 03:53:30        1        1                 NaT               NaN\n",
       "1 2013-11-15 03:45:04        2        1 2013-11-29 03:45:04              14.0\n",
       "2 2013-11-29 03:45:04        2        2 2013-12-09 03:45:04              10.0\n",
       "3 2013-12-09 03:45:04        2        3 2013-12-25 03:45:04              16.0\n",
       "4 2013-12-25 03:45:04        2        4 2013-12-31 03:45:04               6.0\n",
       "5 2013-12-31 03:45:04        2        5 2014-01-08 03:45:04               8.0\n",
       "6 2014-01-08 03:45:04        2        6 2014-02-03 03:45:04              26.0\n",
       "7 2014-02-03 03:45:04        2        7 2014-02-08 03:45:04               5.0\n",
       "8 2014-02-08 03:45:04        2        8 2014-02-09 03:45:04               1.0\n",
       "9 2014-02-09 03:45:04        2        9 2014-02-13 03:45:04               4.0"
      ]
     },
     "execution_count": 4,
     "metadata": {},
     "output_type": "execute_result"
    }
   ],
   "source": [
    "from pandasql import sqldf\n",
    "\n",
    "pysqldf = lambda q: sqldf(q, globals())\n",
    "\n",
    "q = \"\"\"\n",
    "\n",
    "SELECT \n",
    "\n",
    "A.*,\n",
    "B.time_stamp next_time_stamp\n",
    "\n",
    "FROM dfEng A\n",
    "LEFT JOIN dfEng B ON A.user_id = B.user_id AND A.row_num + 1= B.row_num\n",
    "\n",
    "\"\"\"\n",
    "\n",
    "dfEngMod  = pysqldf(q)\n",
    "dfEngMod['time_stamp'] = pd.to_datetime(dfEngMod['time_stamp'])\n",
    "dfEngMod['next_time_stamp'] = pd.to_datetime(dfEngMod['next_time_stamp'])\n",
    "\n",
    "dfEngMod['days_since_prior'] = (dfEngMod['next_time_stamp'] - dfEngMod['time_stamp']).dt.days\n",
    "dfEngMod.head(10)"
   ]
  },
  {
   "cell_type": "markdown",
   "metadata": {},
   "source": [
    "Iterate through this modified dataframe, one user at time, storing the user id if at some point the absolute value of the difference between the previous days since prior login and the current days since prior login being observed is 7 or less. This will determine the adopted users population."
   ]
  },
  {
   "cell_type": "code",
   "execution_count": 5,
   "metadata": {
    "collapsed": false
   },
   "outputs": [
    {
     "data": {
      "text/html": [
       "<div>\n",
       "<style scoped>\n",
       "    .dataframe tbody tr th:only-of-type {\n",
       "        vertical-align: middle;\n",
       "    }\n",
       "\n",
       "    .dataframe tbody tr th {\n",
       "        vertical-align: top;\n",
       "    }\n",
       "\n",
       "    .dataframe thead th {\n",
       "        text-align: right;\n",
       "    }\n",
       "</style>\n",
       "<table border=\"1\" class=\"dataframe\">\n",
       "  <thead>\n",
       "    <tr style=\"text-align: right;\">\n",
       "      <th></th>\n",
       "      <th>user_id</th>\n",
       "      <th>adopted</th>\n",
       "    </tr>\n",
       "  </thead>\n",
       "  <tbody>\n",
       "    <tr>\n",
       "      <th>0</th>\n",
       "      <td>1</td>\n",
       "      <td>0</td>\n",
       "    </tr>\n",
       "    <tr>\n",
       "      <th>1</th>\n",
       "      <td>2</td>\n",
       "      <td>1</td>\n",
       "    </tr>\n",
       "    <tr>\n",
       "      <th>15</th>\n",
       "      <td>3</td>\n",
       "      <td>0</td>\n",
       "    </tr>\n",
       "    <tr>\n",
       "      <th>16</th>\n",
       "      <td>4</td>\n",
       "      <td>0</td>\n",
       "    </tr>\n",
       "    <tr>\n",
       "      <th>17</th>\n",
       "      <td>5</td>\n",
       "      <td>0</td>\n",
       "    </tr>\n",
       "    <tr>\n",
       "      <th>18</th>\n",
       "      <td>6</td>\n",
       "      <td>0</td>\n",
       "    </tr>\n",
       "    <tr>\n",
       "      <th>19</th>\n",
       "      <td>7</td>\n",
       "      <td>0</td>\n",
       "    </tr>\n",
       "    <tr>\n",
       "      <th>20</th>\n",
       "      <td>10</td>\n",
       "      <td>1</td>\n",
       "    </tr>\n",
       "    <tr>\n",
       "      <th>304</th>\n",
       "      <td>11</td>\n",
       "      <td>0</td>\n",
       "    </tr>\n",
       "    <tr>\n",
       "      <th>305</th>\n",
       "      <td>13</td>\n",
       "      <td>0</td>\n",
       "    </tr>\n",
       "  </tbody>\n",
       "</table>\n",
       "</div>"
      ],
      "text/plain": [
       "     user_id  adopted\n",
       "0          1        0\n",
       "1          2        1\n",
       "15         3        0\n",
       "16         4        0\n",
       "17         5        0\n",
       "18         6        0\n",
       "19         7        0\n",
       "20        10        1\n",
       "304       11        0\n",
       "305       13        0"
      ]
     },
     "execution_count": 5,
     "metadata": {},
     "output_type": "execute_result"
    }
   ],
   "source": [
    "users = dfEngMod['user_id'].drop_duplicates().values\n",
    "store = []\n",
    "\n",
    "for uid in users:\n",
    "    \n",
    "    prev = 0\n",
    "    df = dfEngMod[dfEngMod['user_id'] == uid]\n",
    "\n",
    "    for index, row in df.iterrows():\n",
    "\n",
    "        curr = row['days_since_prior']\n",
    "\n",
    "        if np.abs(curr - prev) <= 7:\n",
    "            store.append(row['user_id'])\n",
    "\n",
    "        else:\n",
    "            prev = curr\n",
    "            \n",
    "store = sorted(list(set(store)))\n",
    "\n",
    "df = dfEng\n",
    "df = df[['user_id']].drop_duplicates()\n",
    "df[\"adopted\"] = [1 if user in store else 0 for user in df['user_id']]\n",
    "df.head(10)"
   ]
  },
  {
   "cell_type": "markdown",
   "metadata": {},
   "source": [
    "### Modeling"
   ]
  },
  {
   "cell_type": "markdown",
   "metadata": {},
   "source": [
    "Prep."
   ]
  },
  {
   "cell_type": "code",
   "execution_count": 6,
   "metadata": {
    "collapsed": false
   },
   "outputs": [
    {
     "data": {
      "text/html": [
       "<div>\n",
       "<style scoped>\n",
       "    .dataframe tbody tr th:only-of-type {\n",
       "        vertical-align: middle;\n",
       "    }\n",
       "\n",
       "    .dataframe tbody tr th {\n",
       "        vertical-align: top;\n",
       "    }\n",
       "\n",
       "    .dataframe thead th {\n",
       "        text-align: right;\n",
       "    }\n",
       "</style>\n",
       "<table border=\"1\" class=\"dataframe\">\n",
       "  <thead>\n",
       "    <tr style=\"text-align: right;\">\n",
       "      <th></th>\n",
       "      <th>last_session_creation_time</th>\n",
       "      <th>opted_in_to_mailing_list</th>\n",
       "      <th>enabled_for_marketing_drip</th>\n",
       "      <th>org_id</th>\n",
       "      <th>invited_by_user_id</th>\n",
       "      <th>adopted</th>\n",
       "      <th>creation_source_cat</th>\n",
       "    </tr>\n",
       "  </thead>\n",
       "  <tbody>\n",
       "    <tr>\n",
       "      <th>0</th>\n",
       "      <td>1.398139e+09</td>\n",
       "      <td>1</td>\n",
       "      <td>0</td>\n",
       "      <td>11</td>\n",
       "      <td>10803</td>\n",
       "      <td>0.0</td>\n",
       "      <td>0</td>\n",
       "    </tr>\n",
       "    <tr>\n",
       "      <th>1</th>\n",
       "      <td>1.396238e+09</td>\n",
       "      <td>0</td>\n",
       "      <td>0</td>\n",
       "      <td>1</td>\n",
       "      <td>316</td>\n",
       "      <td>1.0</td>\n",
       "      <td>1</td>\n",
       "    </tr>\n",
       "    <tr>\n",
       "      <th>2</th>\n",
       "      <td>1.363735e+09</td>\n",
       "      <td>0</td>\n",
       "      <td>0</td>\n",
       "      <td>94</td>\n",
       "      <td>1525</td>\n",
       "      <td>0.0</td>\n",
       "      <td>1</td>\n",
       "    </tr>\n",
       "    <tr>\n",
       "      <th>3</th>\n",
       "      <td>1.369210e+09</td>\n",
       "      <td>0</td>\n",
       "      <td>0</td>\n",
       "      <td>1</td>\n",
       "      <td>5151</td>\n",
       "      <td>0.0</td>\n",
       "      <td>0</td>\n",
       "    </tr>\n",
       "    <tr>\n",
       "      <th>4</th>\n",
       "      <td>1.358850e+09</td>\n",
       "      <td>0</td>\n",
       "      <td>0</td>\n",
       "      <td>193</td>\n",
       "      <td>5240</td>\n",
       "      <td>0.0</td>\n",
       "      <td>0</td>\n",
       "    </tr>\n",
       "    <tr>\n",
       "      <th>5</th>\n",
       "      <td>1.387424e+09</td>\n",
       "      <td>0</td>\n",
       "      <td>0</td>\n",
       "      <td>197</td>\n",
       "      <td>11241</td>\n",
       "      <td>0.0</td>\n",
       "      <td>0</td>\n",
       "    </tr>\n",
       "    <tr>\n",
       "      <th>6</th>\n",
       "      <td>1.356010e+09</td>\n",
       "      <td>0</td>\n",
       "      <td>1</td>\n",
       "      <td>37</td>\n",
       "      <td>0</td>\n",
       "      <td>0.0</td>\n",
       "      <td>3</td>\n",
       "    </tr>\n",
       "    <tr>\n",
       "      <th>7</th>\n",
       "      <td>0.000000e+00</td>\n",
       "      <td>1</td>\n",
       "      <td>1</td>\n",
       "      <td>74</td>\n",
       "      <td>0</td>\n",
       "      <td>0.0</td>\n",
       "      <td>2</td>\n",
       "    </tr>\n",
       "    <tr>\n",
       "      <th>8</th>\n",
       "      <td>0.000000e+00</td>\n",
       "      <td>0</td>\n",
       "      <td>0</td>\n",
       "      <td>302</td>\n",
       "      <td>0</td>\n",
       "      <td>0.0</td>\n",
       "      <td>2</td>\n",
       "    </tr>\n",
       "    <tr>\n",
       "      <th>9</th>\n",
       "      <td>1.401833e+09</td>\n",
       "      <td>1</td>\n",
       "      <td>1</td>\n",
       "      <td>318</td>\n",
       "      <td>4143</td>\n",
       "      <td>1.0</td>\n",
       "      <td>1</td>\n",
       "    </tr>\n",
       "  </tbody>\n",
       "</table>\n",
       "</div>"
      ],
      "text/plain": [
       "   last_session_creation_time  opted_in_to_mailing_list  \\\n",
       "0                1.398139e+09                         1   \n",
       "1                1.396238e+09                         0   \n",
       "2                1.363735e+09                         0   \n",
       "3                1.369210e+09                         0   \n",
       "4                1.358850e+09                         0   \n",
       "5                1.387424e+09                         0   \n",
       "6                1.356010e+09                         0   \n",
       "7                0.000000e+00                         1   \n",
       "8                0.000000e+00                         0   \n",
       "9                1.401833e+09                         1   \n",
       "\n",
       "   enabled_for_marketing_drip  org_id  invited_by_user_id  adopted  \\\n",
       "0                           0      11               10803      0.0   \n",
       "1                           0       1                 316      1.0   \n",
       "2                           0      94                1525      0.0   \n",
       "3                           0       1                5151      0.0   \n",
       "4                           0     193                5240      0.0   \n",
       "5                           0     197               11241      0.0   \n",
       "6                           1      37                   0      0.0   \n",
       "7                           1      74                   0      0.0   \n",
       "8                           0     302                   0      0.0   \n",
       "9                           1     318                4143      1.0   \n",
       "\n",
       "   creation_source_cat  \n",
       "0                    0  \n",
       "1                    1  \n",
       "2                    1  \n",
       "3                    0  \n",
       "4                    0  \n",
       "5                    0  \n",
       "6                    3  \n",
       "7                    2  \n",
       "8                    2  \n",
       "9                    1  "
      ]
     },
     "execution_count": 6,
     "metadata": {},
     "output_type": "execute_result"
    }
   ],
   "source": [
    "dfUsers.columns = ['user_id', 'creation_time', 'name', 'email', 'creation_source',\n",
    "       'last_session_creation_time', 'opted_in_to_mailing_list',\n",
    "       'enabled_for_marketing_drip', 'org_id', 'invited_by_user_id']\n",
    "\n",
    "dfMod = pd.merge(dfUsers, df, how = 'left', on='user_id')\n",
    "\n",
    "dfMod = dfMod.fillna(0)\n",
    "dfMod['invited_by_user_id'] = dfMod['invited_by_user_id'].astype(int)\n",
    "\n",
    "dfMod['creation_source'] = dfMod['creation_source'].astype('category')\n",
    "dfMod['creation_source_cat'] = dfMod['creation_source'].cat.codes\n",
    "\n",
    "dfMod = dfMod.drop(['creation_time', 'name', 'email', 'creation_source', 'user_id'], axis=1)\n",
    "dfMod.head(10)"
   ]
  },
  {
   "cell_type": "code",
   "execution_count": 7,
   "metadata": {
    "collapsed": true
   },
   "outputs": [],
   "source": [
    "y = dfMod['adopted']\n",
    "df = dfMod.drop(['adopted'],axis=1)"
   ]
  },
  {
   "cell_type": "markdown",
   "metadata": {},
   "source": [
    "Decision Tree"
   ]
  },
  {
   "cell_type": "code",
   "execution_count": 8,
   "metadata": {
    "collapsed": false
   },
   "outputs": [
    {
     "name": "stdout",
     "output_type": "stream",
     "text": [
      "\n",
      "Acc. Train: 0.82\n",
      "Acc. Test: 0.83\n"
     ]
    },
    {
     "data": {
      "image/png": "[encoded data removed]",
      "text/plain": [
       "<Figure size 432x288 with 1 Axes>"
      ]
     },
     "metadata": {},
     "output_type": "display_data"
    },
    {
     "name": "stdout",
     "output_type": "stream",
     "text": [
      "\n",
      "Classification Report:\n",
      "\n",
      "               precision    recall  f1-score   support\n",
      "\n",
      "         0.0       0.89      0.90      0.89      2953\n",
      "         1.0       0.52      0.51      0.52       647\n",
      "\n",
      "   micro avg       0.83      0.83      0.83      3600\n",
      "   macro avg       0.71      0.71      0.71      3600\n",
      "weighted avg       0.83      0.83      0.83      3600\n",
      "\n",
      "\n",
      "Confusion Matrix:\n",
      "         pred:1  pred:0\n",
      "true:1     333     314\n",
      "true:0     309    2644\n",
      "\n",
      "\n",
      "Feature Importance:\n",
      "                       feature  importance\n",
      "2  last_session_creation_time    0.671551\n",
      "3                      org_id    0.177946\n",
      "1          invited_by_user_id    0.094515\n",
      "5         creation_source_cat    0.024773\n",
      "4  enabled_for_marketing_drip    0.016479\n",
      "0    opted_in_to_mailing_list    0.014735\n"
     ]
    }
   ],
   "source": [
    "X_train, X_test, y_train, y_test = train_test_split(df, y, test_size=0.3, random_state=89)\n",
    "clf = DecisionTreeClassifier(random_state=89, class_weight='balanced')\n",
    "print('\\nAcc. Train:', round(np.mean(cross_val_score(clf, X_train, y_train, cv=5)),2))\n",
    "clf = clf.fit(X_train, y_train)\n",
    "\n",
    "print('Acc. Test:', round(accuracy_score(clf.predict(X_test), y_test),2))\n",
    "probs = clf.predict_proba(X_test)\n",
    "preds = probs[:,1]\n",
    "fpr, tpr, threshold = roc_curve(y_test, preds)\n",
    "roc_auc = auc(fpr, tpr)\n",
    "\n",
    "plt.title('ROC Curve')\n",
    "plt.plot(fpr, tpr, 'b', label = 'AUC = %0.2f' % roc_auc)\n",
    "plt.legend(loc = 'lower right')\n",
    "plt.plot([0, 1], [0, 1],'r--')\n",
    "plt.xlim([0, 1])\n",
    "plt.ylim([0, 1])\n",
    "plt.ylabel('True Positive Rate')\n",
    "plt.xlabel('False Positive Rate')\n",
    "plt.show()\n",
    "\n",
    "print('\\nClassification Report:\\n\\n', classification_report(y_test, clf.predict(X_test)))\n",
    "print('\\nConfusion Matrix:\\n', pd.DataFrame(confusion_matrix(y_test, clf.predict(X_test), labels=[1, 0]), \n",
    "                                            index=['true:1', 'true:0'], columns=['pred:1', 'pred:0']))\n",
    "\n",
    "imp = dict(zip(X_train.columns, clf.feature_importances_))\n",
    "dfImp = pd.DataFrame(list(imp.items()) ,columns=['feature', 'importance'])\n",
    "print('\\n\\nFeature Importance:\\n',dfImp.sort_values(by=['importance'], ascending=False))\n"
   ]
  },
  {
   "cell_type": "markdown",
   "metadata": {},
   "source": [
    "Random Forest"
   ]
  },
  {
   "cell_type": "code",
   "execution_count": 9,
   "metadata": {
    "collapsed": false
   },
   "outputs": [
    {
     "name": "stdout",
     "output_type": "stream",
     "text": [
      "\n",
      "Acc. Train: 0.88\n",
      "Acc. Test: 0.88\n"
     ]
    },
    {
     "data": {
      "image/png": "[encoded data removed]",
      "text/plain": [
       "<Figure size 432x288 with 1 Axes>"
      ]
     },
     "metadata": {},
     "output_type": "display_data"
    },
    {
     "name": "stdout",
     "output_type": "stream",
     "text": [
      "\n",
      "Classification Report:\n",
      "\n",
      "               precision    recall  f1-score   support\n",
      "\n",
      "         0.0       0.90      0.96      0.93      2953\n",
      "         1.0       0.74      0.52      0.61       647\n",
      "\n",
      "   micro avg       0.88      0.88      0.88      3600\n",
      "   macro avg       0.82      0.74      0.77      3600\n",
      "weighted avg       0.87      0.88      0.87      3600\n",
      "\n",
      "\n",
      "Confusion Matrix:\n",
      "         pred:1  pred:0\n",
      "true:1     336     311\n",
      "true:0     116    2837\n",
      "\n",
      "\n",
      "Feature Importance:\n",
      "                       feature  importance\n",
      "2  last_session_creation_time    0.649625\n",
      "3                      org_id    0.198895\n",
      "1          invited_by_user_id    0.106099\n",
      "5         creation_source_cat    0.024888\n",
      "0    opted_in_to_mailing_list    0.011040\n",
      "4  enabled_for_marketing_drip    0.009452\n"
     ]
    }
   ],
   "source": [
    "rf = RandomForestClassifier(n_estimators = 500, random_state = 89, class_weight='balanced')\n",
    "print('\\nAcc. Train:', round(np.mean(cross_val_score(rf, X_train, y_train, cv=5)),2))\n",
    "rf.fit(X_train, y_train)\n",
    "\n",
    "print('Acc. Test:', round(accuracy_score(rf.predict(X_test), y_test),2))\n",
    "probs = rf.predict_proba(X_test)\n",
    "preds = probs[:,1]\n",
    "fpr, tpr, threshold = roc_curve(y_test, preds)\n",
    "roc_auc = auc(fpr, tpr)\n",
    "\n",
    "plt.title('ROC Curve')\n",
    "plt.plot(fpr, tpr, 'b', label = 'AUC = %0.2f' % roc_auc)\n",
    "plt.legend(loc = 'lower right')\n",
    "plt.plot([0, 1], [0, 1],'r--')\n",
    "plt.xlim([0, 1])\n",
    "plt.ylim([0, 1])\n",
    "plt.ylabel('True Positive Rate')\n",
    "plt.xlabel('False Positive Rate')\n",
    "plt.show()\n",
    "\n",
    "print('\\nClassification Report:\\n\\n', classification_report(y_test, rf.predict(X_test)))\n",
    "print('\\nConfusion Matrix:\\n', pd.DataFrame(confusion_matrix(y_test, rf.predict(X_test), labels=[1, 0]), \n",
    "                                            index=['true:1', 'true:0'], columns=['pred:1', 'pred:0']))\n",
    "\n",
    "imp = dict(zip(X_train.columns, rf.feature_importances_))\n",
    "dfImp = pd.DataFrame(list(imp.items()) ,columns=['feature', 'importance'])\n",
    "print('\\n\\nFeature Importance:\\n',dfImp.sort_values(by=['importance'], ascending=False))"
   ]
  },
  {
   "cell_type": "markdown",
   "metadata": {},
   "source": [
    "Prep."
   ]
  },
  {
   "cell_type": "code",
   "execution_count": 10,
   "metadata": {
    "collapsed": false
   },
   "outputs": [
    {
     "name": "stderr",
     "output_type": "stream",
     "text": [
      "/Users/LuisRa/anaconda/lib/python3.5/site-packages/ipykernel/__main__.py:1: DataConversionWarning: Data with input dtype int8, int64, float64 were all converted to float64 by the scale function.\n",
      "  if __name__ == '__main__':\n",
      "/Users/LuisRa/anaconda/lib/python3.5/site-packages/sklearn/preprocessing/data.py:176: UserWarning: Numerical issues were encountered when centering the data and might not be solved. Dataset may contain too large values. You may need to prescale your features.\n",
      "  warnings.warn(\"Numerical issues were encountered \"\n",
      "/Users/LuisRa/anaconda/lib/python3.5/site-packages/ipykernel/__main__.py:2: DataConversionWarning: Data with input dtype int8, int64, float64 were all converted to float64 by the scale function.\n",
      "  from ipykernel import kernelapp as app\n"
     ]
    }
   ],
   "source": [
    "X_train_ = scale(X_train)\n",
    "X_test_ = scale(X_test)"
   ]
  },
  {
   "cell_type": "markdown",
   "metadata": {},
   "source": [
    "SVM"
   ]
  },
  {
   "cell_type": "code",
   "execution_count": 11,
   "metadata": {
    "collapsed": false
   },
   "outputs": [
    {
     "name": "stdout",
     "output_type": "stream",
     "text": [
      "\n",
      "Acc. Train: 0.5\n",
      "Acc. Test: 0.49\n"
     ]
    },
    {
     "data": {
      "image/png": "[encoded data removed]",
      "text/plain": [
       "<Figure size 432x288 with 1 Axes>"
      ]
     },
     "metadata": {},
     "output_type": "display_data"
    },
    {
     "name": "stdout",
     "output_type": "stream",
     "text": [
      "\n",
      "Classification Report:\n",
      "\n",
      "               precision    recall  f1-score   support\n",
      "\n",
      "         0.0       0.98      0.39      0.56      2953\n",
      "         1.0       0.26      0.96      0.40       647\n",
      "\n",
      "   micro avg       0.49      0.49      0.49      3600\n",
      "   macro avg       0.62      0.67      0.48      3600\n",
      "weighted avg       0.85      0.49      0.53      3600\n",
      "\n",
      "\n",
      "Confusion Matrix:\n",
      "         pred:1  pred:0\n",
      "true:1     619      28\n",
      "true:0    1801    1152\n"
     ]
    }
   ],
   "source": [
    "svmClf = svm.SVC(gamma='scale', probability=True, class_weight='balanced')\n",
    "print('\\nAcc. Train:', round(np.mean(cross_val_score(svmClf, X_train_, y_train, cv=5)),2))\n",
    "svmClf.fit(X_train_, y_train)\n",
    "\n",
    "print('Acc. Test:', round(accuracy_score(svmClf.predict(X_test_), y_test),2))\n",
    "probs = svmClf.predict_proba(X_test_)\n",
    "preds = probs[:,1]\n",
    "fpr, tpr, threshold = roc_curve(y_test, preds)\n",
    "roc_auc = auc(fpr, tpr)\n",
    "\n",
    "plt.title('ROC Curve')\n",
    "plt.plot(fpr, tpr, 'b', label = 'AUC = %0.2f' % roc_auc)\n",
    "plt.legend(loc = 'lower right')\n",
    "plt.plot([0, 1], [0, 1],'r--')\n",
    "plt.xlim([0, 1])\n",
    "plt.ylim([0, 1])\n",
    "plt.ylabel('True Positive Rate')\n",
    "plt.xlabel('False Positive Rate')\n",
    "plt.show()\n",
    "\n",
    "print('\\nClassification Report:\\n\\n', classification_report(y_test, svmClf.predict(X_test_)))\n",
    "print('\\nConfusion Matrix:\\n', pd.DataFrame(confusion_matrix(y_test, svmClf.predict(X_test_), labels=[1, 0]), \n",
    "                                            index=['true:1', 'true:0'], columns=['pred:1', 'pred:0']))"
   ]
  },
  {
   "cell_type": "markdown",
   "metadata": {},
   "source": [
    "kNN"
   ]
  },
  {
   "cell_type": "code",
   "execution_count": 12,
   "metadata": {
    "collapsed": false
   },
   "outputs": [
    {
     "name": "stdout",
     "output_type": "stream",
     "text": [
      "\n",
      "Acc. Train: 0.8\n",
      "Acc. Test: 0.77\n"
     ]
    },
    {
     "data": {
      "image/png": "[encoded data removed]",
      "text/plain": [
       "<Figure size 432x288 with 1 Axes>"
      ]
     },
     "metadata": {},
     "output_type": "display_data"
    },
    {
     "name": "stdout",
     "output_type": "stream",
     "text": [
      "\n",
      "Classification Report:\n",
      "\n",
      "               precision    recall  f1-score   support\n",
      "\n",
      "         0.0       0.84      0.90      0.87      2953\n",
      "         1.0       0.31      0.21      0.25       647\n",
      "\n",
      "   micro avg       0.77      0.77      0.77      3600\n",
      "   macro avg       0.57      0.55      0.56      3600\n",
      "weighted avg       0.74      0.77      0.76      3600\n",
      "\n",
      "\n",
      "Confusion Matrix:\n",
      "         pred:1  pred:0\n",
      "true:1     138     509\n",
      "true:0     306    2647\n"
     ]
    }
   ],
   "source": [
    "knn = KNeighborsClassifier(n_neighbors=5)\n",
    "print('\\nAcc. Train:', round(np.mean(cross_val_score(knn, X_train_, y_train, cv=5)),2))\n",
    "knn.fit(X_train_, y_train)\n",
    "\n",
    "print('Acc. Test:', round(accuracy_score(knn.predict(X_test_), y_test),2))\n",
    "probs = knn.predict_proba(X_test_)\n",
    "preds = probs[:,1]\n",
    "fpr, tpr, threshold = roc_curve(y_test, preds)\n",
    "roc_auc = auc(fpr, tpr)\n",
    "\n",
    "plt.title('ROC Curve')\n",
    "plt.plot(fpr, tpr, 'b', label = 'AUC = %0.2f' % roc_auc)\n",
    "plt.legend(loc = 'lower right')\n",
    "plt.plot([0, 1], [0, 1],'r--')\n",
    "plt.xlim([0, 1])\n",
    "plt.ylim([0, 1])\n",
    "plt.ylabel('True Positive Rate')\n",
    "plt.xlabel('False Positive Rate')\n",
    "plt.show()\n",
    "\n",
    "print('\\nClassification Report:\\n\\n', classification_report(y_test, knn.predict(X_test_)))\n",
    "print('\\nConfusion Matrix:\\n', pd.DataFrame(confusion_matrix(y_test, knn.predict(X_test_), labels=[1, 0]), \n",
    "                                            index=['true:1', 'true:0'], columns=['pred:1', 'pred:0']))"
   ]
  },
  {
   "cell_type": "markdown",
   "metadata": {},
   "source": [
    "---\n",
    "### Conclusion"
   ]
  },
  {
   "cell_type": "markdown",
   "metadata": {},
   "source": [
    "Approach: \n",
    "\n",
    "To identify the adopted users population:\n",
    "* Sort engagement data by user id and timestamp, assigning row numbers per user.\n",
    "* Join the next login to the previous login using the user id and row num as keys. \n",
    "* Calculate the difference between the two timestamps in terms of day.\n",
    "* Iterate through this modified dataframe, one user at a time, storing the user id if the absolute value of the difference between the previous *days_since_prior* login and the current *days_since_prior* login being observed is 7 or less. \n",
    "\n",
    "Selected Model: Random Forest with an accuracy of 0.88. The f1-score of the adopted users was 0.6 and that of the non-adopted users was 0.9. Regarding the adopted users population, the precision was good (0.74) but the recall (0.52) could still use some improvement. Metrics considered for model selection included accuracy, precision, recall, f1-score, and auc.\n",
    "\n",
    "Alternatives Considered: Decision Tree, Random Forest, SVM, kNN.\n",
    "\n",
    "Insight: The last session creation time (65%), organization id (20%), and invited by user id (10%) appear to be the strongest indicators of future user adoption. These findings suggest that recent activity, belonging to an organization, and knowing certain users goes a long way to adoption.\n"
   ]
  }
 ],
 "metadata": {
  "anaconda-cloud": {},
  "kernelspec": {
   "display_name": "Python [default]",
   "language": "python",
   "name": "python3"
  },
  "language_info": {
   "codemirror_mode": {
    "name": "ipython",
    "version": 3
   },
   "file_extension": ".py",
   "mimetype": "text/x-python",
   "name": "python",
   "nbconvert_exporter": "python",
   "pygments_lexer": "ipython3",
   "version": "3.5.6"
  }
 },
 "nbformat": 4,
 "nbformat_minor": 2
}
